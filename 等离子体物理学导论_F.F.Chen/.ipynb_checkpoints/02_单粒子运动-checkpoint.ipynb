{
 "cells": [
  {
   "cell_type": "markdown",
   "metadata": {},
   "source": [
    "# 习题2-1"
   ]
  },
  {
   "cell_type": "markdown",
   "metadata": {},
   "source": [
    "+ (a)在0.5G的地球磁场中，一个$10keV$的电子，求$r_L$.\n",
    "$$\n",
    "\\begin{eqnarray}\n",
    "e &=& 1.6e-19(C)\\\\\n",
    "m_e &=& 0.91e-31(kg)\\\\\n",
    "eV &=& 1.6e-19(J)\\\\\n",
    "E_k &=& 10keV\\\\\n",
    "B &=& 0.5G = 0.5*10^{-4}T\\\\\n",
    "r_L &=& \\frac{mV_{\\perp}}{qB}\n",
    "\\end{eqnarray}\n",
    "$$"
   ]
  },
  {
   "cell_type": "code",
   "execution_count": 6,
   "metadata": {},
   "outputs": [
    {
     "name": "stdout",
     "output_type": "stream",
     "text": [
      "r_L = 2.1330729007701543m\n"
     ]
    }
   ],
   "source": [
    "import numpy as np\n",
    "e     = 1.6e-19\n",
    "m_e   = 0.91e-31\n",
    "eV    = 1.6e-19\n",
    "E_keV = 10\n",
    "B_G   = 0.5\n",
    "B     = B_G*1e-4\n",
    "keV2J = E_keV *1000*eV\n",
    "J2v   = np.sqrt(2*keV2J/m_e)\n",
    "r_L   = m_e*J2v/(e*B)\n",
    "\n",
    "print('r_L = '+str(r_L)+'m')\n"
   ]
  },
  {
   "cell_type": "markdown",
   "metadata": {},
   "source": [
    "+ (b) $B=5\\times 10^{-5}$,流速为$300km/s$的一个太阳风质子"
   ]
  },
  {
   "cell_type": "code",
   "execution_count": 7,
   "metadata": {},
   "outputs": [
    {
     "name": "stdout",
     "output_type": "stream",
     "text": [
      "r_L = 627000.0m\n"
     ]
    }
   ],
   "source": [
    "import numpy as np\n",
    "q     = 1.6e-19\n",
    "m_h   = 1.672e-27\n",
    "eV    = 1.6e-19\n",
    "v     = 300*10**3\n",
    "B_G   = 5e-5\n",
    "B     = B_G*1e-4\n",
    "\n",
    "\n",
    "r_L   = m_h*v/(q*B)\n",
    "print('r_L = '+str(r_L)+'m')"
   ]
  },
  {
   "cell_type": "markdown",
   "metadata": {},
   "source": [
    "+ (c) 在太阳大气层接近太阳黑子处的一个$1keV$的$He^+$,$B=500G$"
   ]
  },
  {
   "cell_type": "code",
   "execution_count": 9,
   "metadata": {},
   "outputs": [
    {
     "name": "stdout",
     "output_type": "stream",
     "text": [
      "r_L = 0.18286607121059936m\n"
     ]
    }
   ],
   "source": [
    "import numpy as np\n",
    "q     = 1.6e-19\n",
    "m_h   = 1.672e-27\n",
    "m_he  = 4*m_h\n",
    "eV    = 1.6e-19\n",
    "B_G   = 500\n",
    "B     = B_G*1e-4\n",
    "E_keV = 1\n",
    "keV2J = E_keV*1000*eV\n",
    "v     = np.sqrt(2*keV2J/m_he)\n",
    "\n",
    "\n",
    "r_L   = m_he*v/(q*B)\n",
    "print('r_L = '+str(r_L)+'m')"
   ]
  },
  {
   "cell_type": "code",
   "execution_count": null,
   "metadata": {},
   "outputs": [],
   "source": []
  }
 ],
 "metadata": {
  "kernelspec": {
   "display_name": "Python 3",
   "language": "python",
   "name": "python3"
  },
  "language_info": {
   "codemirror_mode": {
    "name": "ipython",
    "version": 3
   },
   "file_extension": ".py",
   "mimetype": "text/x-python",
   "name": "python",
   "nbconvert_exporter": "python",
   "pygments_lexer": "ipython3",
   "version": "3.8.3"
  }
 },
 "nbformat": 4,
 "nbformat_minor": 4
}
