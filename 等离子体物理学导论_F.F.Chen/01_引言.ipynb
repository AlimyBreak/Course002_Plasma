{
 "cells": [
  {
   "cell_type": "markdown",
   "metadata": {},
   "source": [
    "# Page01\n",
    "## 沙哈方程计算举例\n",
    "$$\n",
    "\\begin{eqnarray}\n",
    "n_n&\\approx&3\\times 10^{19} cm^{-3}\\\\\n",
    "T &\\approx &300K\\\\\n",
    "U_i&\\approx&14.5eV\\\\\n",
    "\\frac{n_i^2}{n_n}&=&2.4\\times 10^{15}\\frac{T^{3/2}}{1}\\exp^{-U_i/KT}\\\\\n",
    "&=&2.4\\times 10^{15}\\times 300^{1.5}\\exp(-14.5eV/0.025852eV)\\\\\n",
    "&=&3.2108\\times10^{-225}\\\\\n",
    "n_i^2&=&1.5858\\times10^{-205} cm^{-6}\\\\\n",
    "n_i&=&3.9823\\times10^{-103} cm^{-3}\\\\\n",
    "\\frac{n_i}{n_n}&=&1.3274\\times10^{-122}\n",
    "\\end{eqnarray}\n",
    "$$"
   ]
  },
  {
   "cell_type": "code",
   "execution_count": 3,
   "metadata": {},
   "outputs": [
    {
     "name": "stdout",
     "output_type": "stream",
     "text": [
      "1.327423074281978e-122\n"
     ]
    }
   ],
   "source": [
    "import numpy as np\n",
    "T     = 300\n",
    "K     = 1.38e-23\n",
    "eV    = 1.6e-19\n",
    "part1 = 2.4e15\n",
    "part2 = 300**(1.5)\n",
    "part3 = np.exp(-14.5/(K*T/eV))\n",
    "n_n   = 3e19\n",
    "all   = part1*part2*part3\n",
    "n_i2  = n_n * all\n",
    "n_i   = n_i2**0.5\n",
    "print(n_i/n_n)"
   ]
  },
  {
   "cell_type": "markdown",
   "metadata": {},
   "source": [
    "# Page03\n",
    "## 公式推导$(1-4）$\n",
    "$$\n",
    "\\begin{eqnarray}\n",
    "B &=& \\frac{1}{2}m/KT\\\\\n",
    "f(u) & = & A\\exp(-\\frac{1}{2}mu^2/KT)\\\\\n",
    "& = & A\\exp(-Bu^2)\\\\\n",
    "n&=& \\int_{-\\infty}^{+\\infty}f(u)du\\\\\n",
    "&=&A\\int_{-\\infty}^{+\\infty}\\exp(-Bu^2)du\\\\\n",
    "v&=&\\sqrt{B}u,u=\\frac{v}{\\sqrt{B}},v\\in(-\\infty,+\\infty)\\\\\n",
    "n&=&A\\int_{-\\infty}^{+\\infty}\\exp(-v^2)d\\frac{v}{\\sqrt{B}}=\\frac{A}{\\sqrt{B}}\\int_{-\\infty}^{+\\infty}\\exp(-v^2)dv\\\\\n",
    "&=&\\frac{A}{\\sqrt{B}}\\sqrt{\\pi}\\\\\n",
    "A&=&n\\left(\\frac{B}{\\pi}\\right)^{1/2}\\\\\n",
    "&=&n\\left(\\frac{m}{2\\pi KT}\\right)^{1/2}\n",
    "\\end{eqnarray}\n",
    "$$"
   ]
  },
  {
   "cell_type": "code",
   "execution_count": null,
   "metadata": {},
   "outputs": [],
   "source": []
  }
 ],
 "metadata": {
  "kernelspec": {
   "display_name": "Python 3",
   "language": "python",
   "name": "python3"
  },
  "language_info": {
   "codemirror_mode": {
    "name": "ipython",
    "version": 3
   },
   "file_extension": ".py",
   "mimetype": "text/x-python",
   "name": "python",
   "nbconvert_exporter": "python",
   "pygments_lexer": "ipython3",
   "version": "3.8.3"
  }
 },
 "nbformat": 4,
 "nbformat_minor": 4
}
